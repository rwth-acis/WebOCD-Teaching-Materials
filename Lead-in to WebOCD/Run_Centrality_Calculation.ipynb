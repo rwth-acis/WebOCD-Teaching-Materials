{
 "cells": [
  {
   "cell_type": "markdown",
   "metadata": {},
   "source": [
    "# Run Centrality Calculation\n",
    "\n",
    "Graphs are representations of relationships between entities, like karate club members for our Zachary Karate Club dataset. These members are represented as nodes, and their interactivity outside the normal club activities is represented using edges. Some of these members or nodes in the graph might be more important than others. Centrality is used to measure this importance. Therefore, the definition of importance can change which nodes in the graph are actually important. The huge number of different existing centrality measures defines the importance of nodes from different perspectives. Calculating the centrality of a graph provides important analytical information about it and its nodes.\n",
    "\n",
    "Since the list of centrality measures in the WebOCD service is very long, this notebook will cover only a few of them in detail.\n",
    "\n",
    "To run a centrality calculation in the web service, the user needs to select a graph. In the graph overview, the centrality measures can be found in the *Run Centrality Calculation* collabsable. The user can select an arbitrary centrality measure and click on *Run*.\n",
    "\n",
    "<img src=\"figures/karateGraphOverviewCenCalc.jpg\" alt=\"image\" width=\"800\"/>\n",
    "\n",
    "The results can be seen in the *Centralities* tab of the graph overview.\n",
    "\n",
    "<img src=\"figures/karateGraphOverviewCenTab.jpg\" alt=\"image\" width=\"800\"/>\n",
    "\n",
    "Clicking on the *Centralities* tab shows a list of all the centralities that were calculated for the selected graph. Choosig a specific centrality shows the centrality overview where the user can take a look at the specific centrality values, the parameters, and the visualization of the graph with centrality values. For more information on the visualization, check out the corresponding [notebook](Visualization.ipynb).\n",
    "\n",
    "<img src=\"figures/karateCenOverview.png\" alt=\"image\" width=\"800\"/>"
   ]
  },
  {
   "cell_type": "markdown",
   "metadata": {},
   "source": [
    "## Table of Contents\n",
    "\n",
    "- [Degree Centrality](#degree-centrality)\n",
    "- [H-Index](#h-index)\n",
    "- [PageRank](#pagerank)\n",
    "- [Running Centrality Metric](#run-centrality-metric)"
   ]
  },
  {
   "cell_type": "markdown",
   "metadata": {},
   "source": [
    "### Degree Centrality\n",
    "\n",
    "For undirected graphs, the degree of a node is the number of ingoing and outgoing edges. If the graph is directed, the in-degree (number of ingoing edges) and the out-degree (number of outgoing edges) of a node can also be calculated."
   ]
  },
  {
   "cell_type": "markdown",
   "metadata": {},
   "source": [
    "### H-Index\n",
    "\n",
    "The h-index defines the maximum *h* such that the corresponding graph contains *h* nodes of degree at least *h*. It provides a convenient measure of the of the distribution uniformity of links in a graph and was introduced by [Hirsch](https://www.pnas.org/doi/10.1073/pnas.0507655102) in 2005."
   ]
  },
  {
   "cell_type": "markdown",
   "metadata": {},
   "source": [
    "### PageRank\n",
    "\n",
    "The PageRank (PR) algorithm is normally used to rank the importance of web pages for search engines. Therefore, it counts the number and quality of links to a certain page. The quality of a link is determined by the quality of the page, the link comes from. The underlying assumption of the algorithm is that important pages are much more likely to receive more links from other pages."
   ]
  },
  {
   "cell_type": "markdown",
   "metadata": {},
   "source": [
    "### Run Centrality Metric\n",
    "\n",
    "To run a centrality algorithm, follow the steps below:\n",
    "\n",
    "1. Import or generate a graph\n",
    "2. Choose an arbitrary centrality measure\n",
    "\n",
    "The results can be seen as stated in the beginning of this notebook."
   ]
  },
  {
   "cell_type": "markdown",
   "metadata": {},
   "source": [
    "Continue with the next notebook: [Run Centrality Simulation](Run_Centrality_Simulation.ipynb)\n",
    "\n",
    "Go back to the [Introduction](Lead-in_to_WebOCD_Introduction.ipynb)"
   ]
  }
 ],
 "metadata": {
  "language_info": {
   "name": "python"
  },
  "orig_nbformat": 4
 },
 "nbformat": 4,
 "nbformat_minor": 2
}
