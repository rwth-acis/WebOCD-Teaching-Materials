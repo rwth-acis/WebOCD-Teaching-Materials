{
 "cells": [
  {
   "cell_type": "markdown",
   "metadata": {},
   "source": [
    "# Run Cooperation Simulation\n",
    "\n",
    "This notebook focusses on the cooperation simulation functionality of the WebOCD service. To run a cooperation simulation, the user needs to choose a graph. In the graph overview, the simulation can be started in the *Run Cooperation Simulation* collapsable.\n",
    "\n",
    "<img src=\"figures/karateGraphOverviewCoop.jpg\" alt=\"image\" width=\"800\"/>\n",
    "\n",
    "In the cooperation simulation form, the user needs to specify a name for the simluation first. Also, the number of iterations for the games can be defined. After that, a game can be chosen. The modifiable parameters of the games are explained down below. The *Dynamic* dropdown menu provides different update dynamics for the games. The first one is Replicator (REP), which depends onn one parameter that is called *Value* in the WebOCD service. This parameter characterizes the tendency to imitate others. The remaining update dynamics are Imitation, Moran, and Win-Stay Lose-Shift. All of these do not have modifiable parameters. After choosing an update dynamic, the user can specify a *BreakCondition*. The condition *Fixed Iterations* takes a number of iterations as input and breaks after these. The other break condition *Stationary State* has three modifiable input parameters. The simulation lasts at least *minIterations* and at most *maxIterations* long. If int between those values, the *timeWindow* is reached, the simulation stopps as well. After all parameters are modified by the user, he can click the *Simulate* button to start the simulation. The results can be received in the *Simulations* tab in the header of the web service\n",
    "\n",
    "<img src=\"figures/headerSim.jpg\" alt=\"image\" width=\"1000\"/>\n",
    "\n",
    " or the corresponding graphs overview.\n",
    "\n",
    " <img src=\"figures/karateGraphOverviewSim.jpg\" alt=\"image\" width=\"800\"/>"
   ]
  },
  {
   "cell_type": "markdown",
   "metadata": {},
   "source": [
    "## Table of Contents\n",
    "\n",
    "- [Prisoner's Dilemma](#prisoners-dilemma)\n",
    "- [Snow Drift Game](#snow-drift-game)"
   ]
  },
  {
   "cell_type": "markdown",
   "metadata": {},
   "source": [
    "### Prisoner's Dilemma\n",
    "\n",
    "In the Prisoner's Dilemma is a game where community interests are played off against those of an individual. There are two prisoners being questioned. Both have the opportunity to either defend or betray each others guilt. For both players, it is better to defend rather to betray each other. The highest payoff gets one prisoner if he betrayes the other while being defended. The worst payoff gets a prisoner who defends his betraying opponent.\n",
    "\n",
    "Mathematically, the game can be visualized as a 2x2 matrix with two strategies *C*(cooperate/defend) and *D*(defect/betray). A co-operator provides a benefit *b* to his opponent at cost *c* to himself. A defector provides no benefit and has no cost.\n",
    "\n",
    "In the WebOCD service, the following parameters are modifiable for the simulation of the Prisoner's Dilemma:\n",
    "- Temptation - Temptation payoff\n",
    "- Reward - The bennefit b\n",
    "- Punishment - The cost c\n",
    "- Sucker - Suckers payoff"
   ]
  },
  {
   "cell_type": "markdown",
   "metadata": {},
   "source": [
    "### Snow Drift Game\n",
    "\n",
    "In the Snow Drift game, two drivers are trapped on opposite side in a snow drift. Both have the opportunity to either stay in the car or use a shovel to clear a path. As in the Prisoner's Dilemma, for one of the drivers it is best to cooperate not while the opponent does. The difference in Snow Drift is, that a driver benefits from clearing a path, no matter what the opponent does. Both drivers share the benefit no matter what. The cost are only shared, if both drivers are shovelling.\n",
    "\n",
    "In the WebOCD service, the following parameters are modifiable for the simulation of the Snow Drift Game:\n",
    "- Temptation - Temptation payoff\n",
    "- Mutual Cooperation - Benefit in case both agents cooperate\n",
    "- Chicken - Suckers payoff\n",
    "- Mutual Defection - Cost in case both agents defect"
   ]
  },
  {
   "cell_type": "markdown",
   "metadata": {},
   "source": [
    "Continue with the next notebook: [Visualization](Visualization.ipynb)\n",
    "\n",
    "Go back to the [Introduction](Lead-in_to_WebOCD_Introduction.ipynb)"
   ]
  }
 ],
 "metadata": {
  "language_info": {
   "name": "python"
  },
  "orig_nbformat": 4
 },
 "nbformat": 4,
 "nbformat_minor": 2
}
