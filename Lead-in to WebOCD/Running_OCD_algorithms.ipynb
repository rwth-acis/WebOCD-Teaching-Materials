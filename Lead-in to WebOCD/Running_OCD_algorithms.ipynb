{
 "cells": [
  {
   "cell_type": "markdown",
   "metadata": {},
   "source": [
    "# Running OCD algorithms\n",
    "\n",
    "In this notebook, we will explain how to run a variety of different algorithms for overlapping community detection in the WebOCD web service. To follow the process, one needs an imported graph in WebOCD. In case you do not know how to import a graph or generate one using benchmark algorithms, please take a look at the corresponding notebooks for [Import of Data](Import_of_Data.ipynb) or [Creating Synthetic Data with Benchmarks](Running_Benchmarks.ipynb).\n",
    "\n",
    "In order to run OCD algorithms on a certain graph, the user needs to click on that graph in the Networks tab. After that, click the \"Run OCD algorithm\" collapsable.\n",
    "\n",
    "<img src=\"figures/karateGraphOverviewRunOCD.jpg\" alt=\"image\" width=\"800\"/>\n",
    "\n",
    "Now, you can define a name for the cover you are about to create and select the algorithm that should be used. After selecting the algorithm, the user has the opportunity to modify some parameters of the selected algorithm. All algorithms in WebOCD can be used without modifying the algorithm parameters. Nevertheless, the results of the algorithms can be much better if the parameters are modified according to the corresponding graph. Some of the parameters might be self-explanatory, others have names that explain their purpose. In case one does not understand the available parameters, there are a few things that can be tried:\n",
    "\n",
    "- Check the [implementation](https://github.com/rwth-acis/REST-OCD-Services/tree/IS_and_RaRe/rest_ocd_services/src/main/java/i5/las2peer/services/ocd/algorithms) of the algorithm, ideally the algorithm and its parameters are explained there and the source for the algorithm implementation should also be included\n",
    "- Check the online book [Algorithmen für die Entdeckung von Communities in sozialen Netzwerken](http://ocd.git.dbis.rwth-aachen.de/Online-Buch/) for explanations of different algorithms\n",
    "- Use [Google Scholar](https://scholar.google.com) to search for corresponding literature\n",
    "\n",
    "After modifying the parameters, one can choose whether or not the content should be weighted. This works only for content graphs.\n",
    "\n",
    "After pressing on \"Run\", the algorithm is executed on the chosen graph using the defined parameters. One can now see the results by either clicking on the Covers tab in the corresponding graph overview,\n",
    "\n",
    "<img src=\"figures/karateGraphOverviewCovers.jpg\" alt=\"image\" width=\"800\"/>\n",
    "\n",
    "or by using the Community Detection tab in the header of the web service.\n",
    " \n",
    " <img src=\"figures/headerMarked.jpg\" alt=\"image\" width=\"800\"/>\n",
    "\n",
    "The visualization of the cover should be colorful, where the colors indicate the belonging of a node to a community. Overlapping communities are indicated by the mixed colors of the communities that are overlapping.\n",
    "\n",
    "<img src=\"figures/karateCoverGraphVis.png\" alt=\"image\" width=\"800\"/>"
   ]
  },
  {
   "cell_type": "markdown",
   "metadata": {},
   "source": [
    "## Run algorithm on Karate Graph\n",
    "\n",
    "Now we want to run an algorithm step-by-step. Follow the steps below on how to execute an OCD algorithm on the Zachary Karate Club graph.\n",
    "\n",
    "1. Import the Karate Club data\n",
    "2. Click on the imported graph and choose an algorithm to use\n",
    "3. Ideally, inform about the algorithm chosen and adjust the paramaters according to the graph\n",
    "4. Click on Run\n",
    "5. Inspect the result as described\n",
    "\n",
    "The resulting cover file is too big to be shown here. If the resulting cover visualization somehow looks like the picture above, the execution seems to be succesfull. Of course, it might not be optimal, since the result of the algorithm highly depends on the chosen parameters. One can play a little bit with the different values to get a feeling for their influence and to possibly discover a more optimal result."
   ]
  },
  {
   "cell_type": "markdown",
   "metadata": {},
   "source": [
    "Continue with the next notebook: [Run Centrality Calculation](Run_Centrality_Calculation.ipynb)\n",
    "\n",
    "Go back to the [Introduction](Lead-in_to_WebOCD_Introduction.ipynb)"
   ]
  }
 ],
 "metadata": {
  "kernelspec": {
   "display_name": "Python 3.9.10 64-bit",
   "language": "python",
   "name": "python3"
  },
  "language_info": {
   "name": "python",
   "version": "3.9.10"
  },
  "orig_nbformat": 4,
  "vscode": {
   "interpreter": {
    "hash": "aee8b7b246df8f9039afb4144a1f6fd8d2ca17a180786b69acc140d282b71a49"
   }
  }
 },
 "nbformat": 4,
 "nbformat_minor": 2
}
