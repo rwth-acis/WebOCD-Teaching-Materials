{
 "cells": [
  {
   "cell_type": "markdown",
   "metadata": {},
   "source": [
    "# Run Centrality Simulation\n",
    "\n",
    "Centrality simulations calculate a centrality measure for each node by simulating a specific scenario on a whole graph. In the WebOCD service, two different simulations are included.\n",
    "\n",
    "To run a centrality simulation, the user needs to choose a graph first. In the graph overview, one needs to unfold the *Run Centrality Simulation* collapsable.\n",
    "\n",
    "<img src=\"figures/karateGraphOverviewCenSim.jpg\" alt=\"image\" width=\"800\"/>\n",
    "\n",
    "After that, an algorithm can be chosen. With a click on *Run*, the centrality simulation is started on the selected graph. The results of the simulation are located under the *Simulations* tab in the overview of the corresponding graph.\n",
    "\n",
    "<img src=\"figures/karateGraphOverviewCen.jpg\" alt=\"image\" width=\"800\"/>"
   ]
  },
  {
   "cell_type": "markdown",
   "metadata": {},
   "source": [
    "## Table of Contents\n",
    "\n",
    "- [SIR Simulation](#sir-simulation)\n",
    "- [Random Package Transmission Simulation](#random-package-transmission-simulation)\n",
    "- [Running a Centrality Simulation](#running-a-centrality-simulation)"
   ]
  },
  {
   "cell_type": "markdown",
   "metadata": {},
   "source": [
    "### SIR Simulation\n",
    "\n",
    "The SIR simulation interprets the centrality measure of a node as an estimate of the node's ability to spread diseases. In the model, a node can be in three different states:\n",
    "- (S) susceptible,\n",
    "- (I) infected, and\n",
    "- (R) recovered.\n",
    "\n",
    "Initially, every node in the graph is susceptible. The algorithm starts by infecting a random \"seed\" node. In each time step, there is a certain probability for a susceptible node to be infected, if it is connected to an infected node. In the same step, there is a probability, that an infected node recovers. Recovered nodes are immune and can not be infected again. The infection spreads until no node is infected anymore. After that, the number of recovered nodes in the graph is counted and the resulting value is assigned to the nodes as a centrality measure. Since the result is kind of random, it makes sense to repeat the simulation multiple times to receive an average. This can also be done on the WebOCD service.\n",
    "\n",
    "The infection probability and the recovery probability are modifiable parameters in WebOCD."
   ]
  },
  {
   "cell_type": "markdown",
   "metadata": {},
   "source": [
    "### Random Package Transmission Simulation\n",
    "\n",
    "The Random Package Transmission simulates the process of sending a package from a source node *s* to a target node *t*. At every node between s and t, the package randomly chooses an edge to follow. For unweighted graphs, all edges have the same probability. In weighted graphs, the probability of an edge is proportional to its weight. The simulation ends when the package reaches the target node t. For every node, the number of times it was reached by the package is assigned as the centrality measure."
   ]
  },
  {
   "cell_type": "markdown",
   "metadata": {},
   "source": [
    "### Running a Centrality Simulation\n",
    "\n",
    "Follow the step-by-step instructions below to run a centrality simulation on the Zachary Karate Club graph:\n",
    "\n",
    "1. Import the Zachary Karate Club graph\n",
    "2. In the graph overview, unfold the Centrality Simulation collapsable and choose the SIR Simulation\n",
    "3. Keep the default parameters, check the Multiple Runs checkbox, and type in 100 runs\n",
    "4. Click the \"Run\" button\n",
    "\n",
    "The results can be seen by using the Centralities tab in the graph overview."
   ]
  },
  {
   "cell_type": "markdown",
   "metadata": {},
   "source": [
    "Continue with the next notebook: [Run Cooperation Simulation](Run_Cooperation_Simulation.ipynb)\n",
    "\n",
    "Go back to the [Introduction](Lead-in_to_WebOCD_Introduction.ipynb)"
   ]
  }
 ],
 "metadata": {
  "kernelspec": {
   "display_name": "Python 3.9.10 64-bit",
   "language": "python",
   "name": "python3"
  },
  "language_info": {
   "name": "python",
   "version": "3.9.10"
  },
  "orig_nbformat": 4,
  "vscode": {
   "interpreter": {
    "hash": "aee8b7b246df8f9039afb4144a1f6fd8d2ca17a180786b69acc140d282b71a49"
   }
  }
 },
 "nbformat": 4,
 "nbformat_minor": 2
}
