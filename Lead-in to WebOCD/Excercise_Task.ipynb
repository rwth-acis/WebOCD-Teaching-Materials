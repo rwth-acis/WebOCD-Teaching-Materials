{
 "cells": [
  {
   "cell_type": "markdown",
   "metadata": {},
   "source": [
    "# Exercise Task\n",
    "\n",
    "These exercise tasks are meant to deepen the knowledge learned in the Lead-in to WebOCD notebooks. The purpose of this notebook is to check whether the learner is familiar with the general functionality of the WebOCD service and web service. By working through these short tasks, students can check their understanding of the service. On the other hand, one can find potential misunderstandings or knowledge gaps.\n",
    "\n",
    "The exercise tasks use the Dolphin Social Network dataset, which is a directed social network with 62 nodes. The data was collected from 1994 to 2001 in a fjord in New Zeeland. A node in the network represents a bottleneck dolphin. A link between two nodes represents a frequent association between two dolphins.\n",
    "You can find the dataset [here](http://www-personal.umich.edu/~mejn/netdata/).\n",
    "\n",
    "In case you encounter any problems while working on these materials, use the [Lead-in to WebOCD](Lead-in_to_WebOCD_Introduction.ipynb) as a tutorial or solution to the tasks.\n",
    "\n",
    "You can save all your results from these exercise tasks to compare them with other students. Discussing your results with multiple people can help the understanding."
   ]
  },
  {
   "cell_type": "markdown",
   "metadata": {},
   "source": [
    "## Task 1\n",
    "\n",
    "Import the *Dolphin Social Network* dataset as an undirected graph according to the information in [Import of Data](Import_of_Data.ipynb) using the name **Dolphins**. Visualize the graph as a *2D interactive* and export the visualization as a JSON file with the name **DolphinsVis** like shown in [Export of Data](Export_of_Data.ipynb). In case you are not sure if everything worked fine, check the *data* folder in the [WebOCD-Teaching-Materials](https://github.com/rwth-acis/WebOCD-Teaching-Materials/tree/main/Lead-in%20to%20WebOCD) repository and compare your file to ours.\n",
    "\n",
    "Run centrality measures for *Degree*, *H-Index*, and *PageRank* on the imported graph like in [Run Centrality Calculation](Run_Centrality_Simulation.ipynb). Check whether the results of the centrality measures make sense or not. Do the values seem reasonable?\n",
    "\n",
    "Run an arbitrary [algorithm for overlapping community detection](Running_OCD_algorithms.ipynb) on the imported *Dolphins* graph to create a new cover. Be aware that not all of the available algorithms support every graph type. Choose an algorithm that fits the imported graph. The resulting cover should be named **DolphinsCover**.\n",
    "\n",
    "Continue by running the *Extended Modularity* and the *Extended Modularity with Co-Memberships* metric on the cover as shown in [Running Metrics](Running_Metrics.ipynb). You can compare both metrics and think about why they are different from each other."
   ]
  },
  {
   "cell_type": "markdown",
   "metadata": {},
   "source": [
    "## Task 2\n",
    "\n",
    "Generate a synthetic graph named **LFRGraph** using the *LFR Benchmark* as explained in [Running Benchmarks](Running_Benchmarks.ipynb). The graph should have 100 nodes and an average node degree of 5.\n",
    "\n",
    "Use the freshly generated network graph to execute some centralities. Calculate the *Coreness* and the *ClusterRank*.\n",
    "\n",
    "Since the LFR Benchmark already created a cover for the generated graph, you do not need to do that. Select the freshly created cover and export the cover as an XML file."
   ]
  }
 ],
 "metadata": {
  "interpreter": {
   "hash": "aee8b7b246df8f9039afb4144a1f6fd8d2ca17a180786b69acc140d282b71a49"
  },
  "kernelspec": {
   "display_name": "Python 3.9.10 64-bit",
   "language": "python",
   "name": "python3"
  },
  "language_info": {
   "name": "python",
   "version": "3.9.10"
  },
  "orig_nbformat": 4
 },
 "nbformat": 4,
 "nbformat_minor": 2
}
