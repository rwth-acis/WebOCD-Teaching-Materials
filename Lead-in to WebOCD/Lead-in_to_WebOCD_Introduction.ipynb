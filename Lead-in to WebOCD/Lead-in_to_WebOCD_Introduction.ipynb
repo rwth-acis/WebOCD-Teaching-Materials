{
  "cells": [
    {
      "cell_type": "markdown",
      "metadata": {},
      "source": [
        "# Lead-In to WebOCD\n",
        "\n",
        "WebOCD is an open-source RESTful web service capable of running a variety of different algorithms for overlapping community detection, centrality measures/simulations, metrics, and benchmarks. The service is maintained by the [Information Systems & Databases (i5)](https://dbis.rwth-aachen.de/dbis/) chair at the RWTH Aachen University and contains the [OCD service](https://github.com/rwth-acis/REST-OCD-Services) as well as a corresponding [web service](https://github.com/rwth-acis/OCD-Web-Client/tree/master).\n",
        "\n",
        "This lead-in to WebOCD was created during the course of a bachelor thesis and is the starting point for a variety of teaching materials regarding the service. As an introduction, it is intended to facilitate the process of getting started and provide a detailed overview of the main functionality of the project. To support the general understanding, the small and well-known dataset Zachary Karate Club is used to perform all the described steps. It can be downloaded [here](http://www-personal.umich.edu/~mejn/netdata/) to follow the tutorial.\n",
        "\n",
        "For additional information, the already existing [Wiki](https://github.com/rwth-acis/REST-OCD-Services/wiki) of the WebOCD service can help a lot and will be mentioned in some of the upcoming notebooks.\n",
        "\n",
        "In order to use the WebOCD service, one needs a Learning Layers account that must be created once.\n",
        "\n",
        "In addition to the lead-in and to deepen the contained knowledge, we provide a simple [Exercise Task](Excercise_Task.ipynb) which covers the same topics mentioned in this material, while working on another well-known dataset.\n",
        "\n",
        "Students and newcomers to the research area of overlapping community detection are recommended to work through the whole set of materials which provides them with all the knowledge needed to work with the WebOCD service.\n",
        "Users who already have experience in the area or with the service are welcome to use these notebooks as a reference book regarding WebOCD specific issues and questions.\n",
        "\n",
        "In case one wants to expand knowledge about overlapping community detection, the online book [Algorithmen für die Entdeckung\n",
        "von Communities in sozialen Netzwerken](http://ocd.git.dbis.rwth-aachen.de/Online-Buch/) of the to WebOCD belonging Proseminar at the RWTH Aachen University can help with that. The included articles are written by students in the course of the Proseminar and cover a variety of topics in the research area.\n",
        "\n",
        "In case one wants to use the WebOCD service without the web service, users can check the [Possible Requests](https://github.com/rwth-acis/REST-OCD-Services/wiki/Integration-and-Overview-of-Requests#possible-requests) in the wiki."
      ]
    },
    {
      "cell_type": "markdown",
      "metadata": {},
      "source": [
        "## Table of Contents\n",
        "\n",
        "This lead-in covers the following functionality:\n",
        "\n",
        "- Import and Export of Data\n",
        "  - [Import of Data (Graph, Cover, Centrality)](Import_of_Data.ipynb)\n",
        "  - [Export of Data (Graph, Cover)](Export_of_Data.ipynb)\n",
        "- Running Algorithms, Centrality, Cooperation, and Metrics\n",
        "  - [Algorithms](Running_OCD_algorithms.ipynb)\n",
        "  - [Centrality Calculations](Run_Centrality_Calculation.ipynb)\n",
        "  - [Centrality Simulations](Run_Centrality_Simulation.ipynb)\n",
        "  - [Cooperation Simulation](Run_Cooperation_Simulation.ipynb)\n",
        "  - [Metrics](Running_Metrics.ipynb)\n",
        "- [Visualization](Visualization.ipynb)\n",
        "- [Benchmarks](Running_Benchmarks.ipynb)"
      ]
    },
    {
      "cell_type": "markdown",
      "metadata": {},
      "source": [
        "Below, one can see the Zachary Karate Club dataset visualized by the WebOCD service.\n",
        "\n",
        "<img src=\"figures/karate_community.png\" alt=\"image\" width=\"500\"/>\n",
        "\n",
        "This dataset was presented by W. Zachary in the 1977. The network represents a karate club with 34 members and the social relationships among them. In the network, every member of the club is represented by a node. An edge is drawn between two nodes if and only if the two club members were observed to interact consistently outside the normal activities of the club, that is classes, workouts, and club meetings. Thus can be said that two vertices connected with an edge are club members that can be called friends."
      ]
    }
  ],
  "metadata": {
    "interpreter": {
      "hash": "aee8b7b246df8f9039afb4144a1f6fd8d2ca17a180786b69acc140d282b71a49"
    },
    "kernelspec": {
      "display_name": "Python 3.9.10 64-bit",
      "language": "python",
      "name": "python3"
    },
    "language_info": {
      "codemirror_mode": {
        "name": "python",
        "version": 3
      },
      "file_extension": ".py",
      "mimetype": "text/x-python",
      "name": "python",
      "nbconvert_exporter": "python",
      "pygments_lexer": "ipython3",
      "version": "3.9.10"
    }
  },
  "nbformat": 4,
  "nbformat_minor": 4
}
