{
 "cells": [
  {
   "cell_type": "markdown",
   "metadata": {},
   "source": [
    "# Visualization\n",
    "\n",
    "This notebook will focus shortly on the different visualizations options for graphs and covers included in the WebOCD service. In case you do not have a graph or cover in WebOCD, take a look at the corresponding notebooks [Import of Data](Import_of_Data.ipynb) and [Running OCD algorithms](Running_OCD_algorithms.ipynb) to learn how to change that. In case you want to export the existing visualizations, have a look at the [Export of Data](Export_of_Data.ipynb) notebook."
   ]
  },
  {
   "cell_type": "markdown",
   "metadata": {},
   "source": [
    "## Table of Context\n",
    "\n",
    "- [Visualization of Graphs](#visualization-of-graphs)\n",
    "- [Visualization of Covers](#visualization-of-covers)\n",
    "- [Visualization of Centralities](#visualization-of-centralities)\n",
    "- [Visualization of the Karate Club Graph](#visualization-of-the-karate-club-graph)"
   ]
  },
  {
   "cell_type": "markdown",
   "metadata": {},
   "source": [
    "### Visualization of Graphs\n",
    "\n",
    "In the web service of the framework, there are two ways to visualize existing data. The first one is the visualization of an imported or generated dataset. Therefore, one can click the Networks tab in the header of the web service to get to the list of all available network graphs.\n",
    "\n",
    "<img src=\"figures/headerMarkedNet.jpg\" alt=\"image\" width=\"1000\"/>\n",
    "\n",
    "In the list, one graph can be chosen and clicked. In the graph overview, unfolding the visualization collapsable\n",
    "\n",
    "<img src=\"figures/karateGraphOverviewVis.jpg\" alt=\"image\" width=\"800\"/>\n",
    "\n",
    "reveals the visualization of the corresponding graph in SVG format. The SVG format is one of three available graph visualization formats of the WebOCD web service. The SVG format shows the graph with directed edges and nodenames inside the nodes. There is no opportunity to interact with it in any time besides of zooming in and out. In terms of loading speed, it is the best visualization method, espacially for bigger graphs.\n",
    "\n",
    "<img src=\"figures/karateSVG.png\" alt=\"image\" width=\"500\"/>\n",
    "\n",
    "The second visualization format is 2D interactive. 2D interactive shows the graph without directed edges and without nodenames in the nodes. The nodenames can be received by hovering over a specific node. Besides zooming in and out, this format provides the opportunity to move nodes by drag and drop. Right-clicking on a node selects the node and another right-click deselects it. While dragging a node, a right-click locks the node in its current position which can be rewoked by another right-click. To unlock the node, one can simply right-click it again.\n",
    "\n",
    "<img src=\"figures/karate2D.png\" alt=\"image\" width=\"500\"/>\n",
    "\n",
    "The third graph visualization is 3D interactive. 3D interactive is in terms of functionality like 2D interactive but it also shows directed egdes. It is the most challenging visualization format in terms of computational power.\n",
    "\n",
    "<img src=\"figures/karate3D.png\" alt=\"image\" width=\"500\"/>"
   ]
  },
  {
   "cell_type": "markdown",
   "metadata": {},
   "source": [
    "### Visualization of Covers\n",
    "\n",
    "For the visualization of graph covers in the WebOCD web service, there is only one difference to the graph visualizations. The shown graphs have colorful nodes. The colors of the nodes indicate the belonging to different communities. If a node belongs to more then one community, the color of the node is mixed out of the different community colors. The visualization of graph covers can be seen in the cover overview. The graph cover overview can be reached by clicking on the Community Detection tab in the header\n",
    "\n",
    "<img src=\"figures/headerMarked.jpg\" alt=\"image\" width=\"1000\"/>\n",
    "\n",
    "an choosing one of the displayed covers or by clicking on the Covers tab in the graph overview of a graph. \n",
    "\n",
    "<img src=\"figures/karateGraphOverviewCovers.jpg\" alt=\"image\" width=\"800\"/>\n",
    "\n",
    "In the cover overview, clicking on the visualization collapsable \n",
    "\n",
    "<img src=\"figures/coverOverviewVis.jpg\" alt=\"image\" width=\"800\"/>\n",
    "\n",
    "shows the colourful cover visuakization as SVg, 2D interactive, and 3D interactive."
   ]
  },
  {
   "cell_type": "markdown",
   "metadata": {},
   "source": [
    "### Visualization of Centralities\n",
    "\n",
    "For the visualizations of centralities, the user needs to select an imported or genereated graph. In the graph overview,\n",
    "\n",
    "<img src=\"figures/karateGraphOverviewCenTab.jpg\" alt=\"image\" width=\"800\"/>\n",
    "\n",
    "the *Centralities* tab can be used to receive a list of all calculated centrality measures for the corresponding graph. In case no centralities were calculated yet, check the notebook for [Running Cenntrality Calculations](Run_Centrality_Calculation.ipynb). In the centralities overview\n",
    "\n",
    "<img src=\"figures/karateCenOverview.png\" alt=\"image\" width=\"800\"/>\n",
    "\n",
    "the user can select the *Visualization* collapsable\n",
    "\n",
    "<img src=\"figures/karateCenOverviewVis.jpg\" alt=\"image\" width=\"800\"/>\n",
    "\n",
    "which reveals the three possible visualization formats. In addition to the already known graph visualizations, the values of the respective centrality measure are visualized in the graph either by *Node Size*, *Heat Map*, or *Color Saturation*. The user can change this visualization using a dropdown menu above the graph visualization.\n",
    "\n",
    "<img src=\"figures/karateCenOverviewVisDropDownMarked.jpg\" alt=\"image\" width=\"800\"/>"
   ]
  },
  {
   "cell_type": "markdown",
   "metadata": {},
   "source": [
    "## Visualization of the Karate Club Graph\n",
    "\n",
    "In order to see visualizations of you own data, follow the steps below:\n",
    "\n",
    "1. Import or generate a network graph\n",
    "2. Select the network graph and unfold the Visualization collabsable\n",
    "3. Choose the right visualization format\n",
    "\n",
    "For cover visualization:\n",
    "\n",
    "1. Generate or import a cover\n",
    "2. Click on the Community Detection tab and select the cover\n",
    "3. Unfold the Visualization collabsable and select you preffered format"
   ]
  }
 ],
 "metadata": {
  "language_info": {
   "name": "python"
  },
  "orig_nbformat": 4
 },
 "nbformat": 4,
 "nbformat_minor": 2
}
