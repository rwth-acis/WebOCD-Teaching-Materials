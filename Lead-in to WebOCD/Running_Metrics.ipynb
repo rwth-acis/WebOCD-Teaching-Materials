{
 "cells": [
  {
   "cell_type": "markdown",
   "metadata": {},
   "source": [
    "# Running Metrics\n",
    "\n",
    "This notebook covers the functionality of the WebOCD service to run metrics on graph covers.\n",
    "\n",
    "Since graphs are only representations of real-world networks, their properties vary a lot. They can be small or large, and contain only a few or millions of edges. Some properties like this can be quantified by using graph metrics. To compute metrics in the WebOCD web service, the user needs to choose an existing cover. These can be reached by clicking the *Community Detection* tab in the header of the web service.\n",
    "\n",
    "<img src=\"figures/headerMarked.jpg\" alt=\"image\" width=\"1000\"/>\n",
    "\n",
    "In the displayed list, the user can choose a cover. In case no cover was imported or created yet, please refer to the notebook for [Importing Data](Import_of_Data.ipynb) or [Running OCD Algorithms](Running_OCD_algorithms.ipynb). In the cover overview, the first collapsable *Metric* holds a list of all computed metrics for the corresponding cover.\n",
    "\n",
    "<img src=\"figures/coverOverviewMetrics.jpg\" alt=\"image\" width=\"800\"/>\n",
    "\n",
    "The second collapsable *Run Metric* can be used to compute a variety of metrics.\n",
    "\n",
    "<img src=\"figures/coverOverviewRunMetrics.jpg\" alt=\"image\" width=\"800\"/>\n",
    "\n",
    "Unfolding the collapsable shows the run metric form where the user can choose which metric he wants to compute.\n",
    "\n",
    "<img src=\"figures/metricsForm.png\" alt=\"image\" width=\"800\"/>\n",
    "\n",
    "WebOCD contains a lot of different metric algorithms for statistical measures and knowledge driven measures. These are explained in this notebook."
   ]
  },
  {
   "cell_type": "markdown",
   "metadata": {},
   "source": [
    "## Table of Context\n",
    "\n",
    "- [Statistical Measure](#statistical-measure)\n",
    "  - [Extended Modularity](#extended-modularity)\n",
    "  - [Combined Newman Modularity](#combined-newman-modularity)\n",
    "  - [Extended Modularity with Co-Memberships](#extended-modularity-with-co-memberships)\n",
    "  - [Newman Modularity](#newman-modularity)\n",
    "- [Knowledge Driven Measure](#knowledge-driven-measure)\n",
    "  - [Extended Normalized Mutual Information](#extended-normalized-mutual-information)\n",
    "  - [Omega Index](#omega-index)\n",
    "- [Metrics with the Karate Club Data](#metrics-with-the-karate-club-data)"
   ]
  },
  {
   "cell_type": "markdown",
   "metadata": {},
   "source": [
    "## Statistical Measure"
   ]
  },
  {
   "cell_type": "markdown",
   "metadata": {},
   "source": [
    "### Extended Modularity\n",
    "\n",
    "The Extended or Fuzzy Modularity was presented by Nepusz et al. in [Fuzzy communities and the concept of bridgeness in complex networks](https://arxiv.org/abs/0707.1646) in 2007. The approach modifies the modularity metric by replacing the Kronecker delta $\\delta (c_{i},c_{j})$ with $s_{ij}$.\n",
    "\n",
    "$s_{ij}$ is the denotion of $s(U,i,j)$ which is a similarity function. Nepusz et al. use these vertex similarities because they observed that somehow similar vertices should be grouped together into communities in order to create a meaningful partition.\n",
    "\n",
    "For additional information and mathematical definitions, check out the paper by Nepusz et al."
   ]
  },
  {
   "cell_type": "markdown",
   "metadata": {},
   "source": [
    "### Combined Newman Modularity\n",
    "\n",
    "The implementation of the Newman Modularity in the WebOCD service is combined with the cosine similarity of each node. To influence the cosine similarity, the user can modify the *weightingFactor*. The bigger the weight factor, the less is the influence of the cosine similarity. The weighting factor equal to 1 makes the Combined Newman Modularity behave like the normal Newman Modularity.\n",
    "\n",
    "In the paper [Modularity and community structure in networks](https://www.pnas.org/doi/epdf/10.1073/pnas.0601602103), Newman describes the modularity measure as the number of edges that fall within a group while subtracting the expected number of edges in a similar network with randomly placed edges. Thus, the modularity can either be positive or negative, while only positive values show that a community structure could exist. For more information, see the mentioned paper."
   ]
  },
  {
   "cell_type": "markdown",
   "metadata": {},
   "source": [
    "### Extended Modularity with Co-Memberships\n",
    "\n",
    "The Extended Modularity with Co-Memberships extends, as the name states, the modularity measure by utilizing the information of vertices' co-memberships between communities. Therefore, for every pair of nodes, their co-membership is taken into account while calculating the modularity. The co-membership of two nodes indicates that these nodes appear multiple times in communities together."
   ]
  },
  {
   "cell_type": "markdown",
   "metadata": {},
   "source": [
    "### Newman Modularity\n",
    "\n",
    "The Newman Modularity is calculated by taking the fraction of edges within a community and subtracting the expected fraction of such edges. The expected fraction is calculated by taking a similar network with randomly placed edges into account. The modularity metric is either positive or negative, while a positive value indicates the possibility of an existing community.\n",
    "\n",
    "The modularity metric was presented by Newman and Girvan in [Finding and evaluating community structure in networks](https://journals.aps.org/pre/abstract/10.1103/PhysRevE.69.026113) in 2004. One can check this paper for additional information."
   ]
  },
  {
   "cell_type": "markdown",
   "metadata": {},
   "source": [
    "## Knowledge Driven Measure"
   ]
  },
  {
   "cell_type": "markdown",
   "metadata": {},
   "source": [
    "### Extended Normalized Mutual Information\n",
    "\n",
    "Mutual Information is used to compare clusters. Lancichinetti et al. extended Mutual Information for covers [Detecting the overlapping and hierarchical community structure in complex networks](https://iopscience.iop.org/article/10.1088/1367-2630/11/3/033015). Thus, the version of Lancichinetti et al. is capable of comparing multiple community-finding algorithms. In another step, Lancichinetti et al. also extended the Normalized Mutual Information to make it usable for overlapping community detection algorithms. We refer to this extension as the Extended Normalized Mutual Information.\n",
    "\n",
    "Mutual information quantifies the amount of information about a cluster that can be obtained by another cluster. As a metric, it is a distance measure between pairs of clusters.\n",
    "\n",
    "In the WebOCD service, like the Omega Index, the Extended Normalized Mutual Information metric needs a ground truth cover, which is used to compare the selected cover with it."
   ]
  },
  {
   "cell_type": "markdown",
   "metadata": {},
   "source": [
    "### Omega Index\n",
    "\n",
    "The Omega Index relies on the idea of agreement between nodes. Therefore, it considers pairs of nodes and checks if they are in agreement. Two nodes *i* and *j* are in an agreement, if they are clustered in *k* communities with *k* being a natural number including zero. Omega index starts with 0 and takes two nodes out of different covers for checking their agreement while constantly increasing *k*. The Omega Index is used to compare two covers where a higher value indicates a better match between those. For detailed information and the mathematical background check this [paper](https://www.tandfonline.com/doi/abs/10.1207/s15327906mbr2302_6).\n",
    "\n",
    "In WebOCD, the user needs to select a *Ground Truth Cover* in the *Run Metric* form.\n",
    "\n",
    "<img src=\"figures/CoverKnowledgeDrivenMetric.png\" alt=\"image\" width=\"800\"/>\n",
    "\n",
    "This cover is compared with the selected cover after pressing the *Play-Button*.\n",
    "\n",
    "<img src=\"figures/CoverKnowledgeDrivenMetricPlay.jpg\" alt=\"image\" width=\"800\"/>"
   ]
  },
  {
   "cell_type": "markdown",
   "metadata": {},
   "source": [
    "### Metrics with the Karate Club Data\n",
    "\n",
    "Follow the steps below to execute metrics on covers using the Zachary Karate Club dataset:\n",
    "\n",
    "1. Import the dataset\n",
    "2. Create two covers by using any overlapping community detection algorithms\n",
    "3. Choose one of the covers and select an arbitrary metric (in case you want to use a *Knowledge Driven Measure* choose the other created cover as ground truth cover)\n",
    "4. Run the metric and you are redirected to an overview of the used cover\n",
    "5. Click on the cover and unfold the *Metrics* collapsable to see your results"
   ]
  },
  {
   "cell_type": "markdown",
   "metadata": {},
   "source": [
    "Continue with the next notebook: [Export of Data](Export_of_Data.ipynb)\n",
    "\n",
    "Go back to the [Introduction](Lead-in_to_WebOCD_Introduction.ipynb)"
   ]
  }
 ],
 "metadata": {
  "language_info": {
   "name": "python"
  },
  "orig_nbformat": 4
 },
 "nbformat": 4,
 "nbformat_minor": 2
}
