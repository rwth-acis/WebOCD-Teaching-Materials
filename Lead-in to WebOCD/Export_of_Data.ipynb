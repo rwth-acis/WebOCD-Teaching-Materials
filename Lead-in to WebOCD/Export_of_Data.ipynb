{
 "cells": [
  {
   "cell_type": "markdown",
   "metadata": {},
   "source": [
    "# Export of Data\n",
    "\n",
    "The WebOCD service provides a variety of different possibilities for data export. This includes the export of graph visualizations and covers. These possibilities will be explained using the web service. "
   ]
  },
  {
   "cell_type": "markdown",
   "metadata": {},
   "source": [
    "## Table of Contents\n",
    "\n",
    "- [Export of Graph Visualizations](#export-of-graph-visualizations)\n",
    "- [Export of Covers](#export-of-covers)\n",
    "- [Export Karate Club Data](#export-karate-club-data)"
   ]
  },
  {
   "cell_type": "markdown",
   "metadata": {},
   "source": [
    "### Export of Graph Visualizations\n",
    "\n",
    "In this section, the export of the different graph visualizations is explained. In case you do not know how to visualize an imported graph in different ways, you can take a look at the [notebook for visualiztation]().\n",
    "\n",
    "In order to export a certain graph visualization one can just use the three dots in the upper right corner of the visualization section. Subseuently, the user needs to define a name for the exported file and press the save button. As stated in the input text field, the visualization will be saved as a JSON file under the specified name. To change the exported type of visualization, one needs to choose the right type (SVG, 2D interactive, 3D interactive) before clicking the three dots.\n",
    "\n",
    "<img src=\"figures/visualizationExport.jpg\" alt=\"image\" width=\"800\"/>"
   ]
  },
  {
   "cell_type": "markdown",
   "metadata": {},
   "source": [
    "### Export of Covers\n",
    "\n",
    "In this section, the export of graph covers in different formats is explained. In case you do not have created or imported any covers in/to the WebOCD service, take a look at the notebooks for [Running OCD Algorithms]() and [Import of Data]().\n",
    "\n",
    "To export a graph cover as .txt or .xml file, go to the cover list in WebOCD by either clicking the Community Detection tab in the header of the web service, \n",
    "\n",
    "<img src=\"figures/headerMarked.jpg\" alt=\"image\" width=\"1000\"/>\n",
    "\n",
    "or by choosing a certain graph in the Networks tab an clicking on Covers in the overview of that graph. \n",
    "\n",
    "<img src=\"figures/karateGraphOverviewCovers.jpg\" alt=\"image\" width=\"800\"/>\n",
    "\n",
    "You can also click on a specific cover to see the download buttons on the top right of the cover overview.\n",
    "\n",
    "<img src=\"figures/coverOverview.png\" alt=\"image\" width=\"800\"/>\n",
    "\n",
    "Now, the two most right columns are download-buttons for the cover data in .xml and .txt format. By clicking the download icon in the corresponding row of a cover one can download the cover in the specific file format while the file is named like the existing cover.\n",
    "\n",
    "<img src=\"figures/communityDetectionListMarked.jpg\" alt=\"image\" width=\"800\"/>"
   ]
  },
  {
   "cell_type": "markdown",
   "metadata": {},
   "source": [
    "### Export Karate Club Data\n",
    "\n",
    "Now, since we know how to export graph visualizations and covers, we want to use the Karate Club Dataset as an example. By following the step-by-step tutorial below, you should get a JSON file representing the visualization of the graph as well as a .xml file that stores the data of the cover.\n",
    "\n",
    "1. Import the Zachary Karate Club dataset\n",
    "2. Click on the imported network graph\n",
    "3. Click the Visualization tab and choose the 2D interactive tab\n",
    "4. Click the three dots in the top right corner\n",
    "5. Type in a name and click on Save\n",
    "\n",
    "The download JSON file should look like this:\n",
    "```\n",
    "{\n",
    "    \"nodes\":[\n",
    "        {\"color\":\"rgba(204.0,204.0,255.0,1.0)\",\"size\":20.0,\"name\":\"33\",\"id\":0,\"label\":\"\"},{\"color\":\"rgba(204.0,204.0,255.0,1.0)\",\"size\":21.5625,\"name\":\"32\",\"id\":1,\"label\":\"\"},{\"color\":\"rgba(204.0,204.0,255.0,1.0)\",\"size\":23.125,\"name\":\"31\",\"id\":2,\"label\":\"\"},{\"color\":\"rgba(204.0,204.0,255.0,1.0)\",\"size\":23.125,\"name\":\"30\",\"id\":3,\"label\":\"\"},{\"color\":\"rgba(204.0,204.0,255.0,1.0)\",\"size\":23.125,\"name\":\"29\",\"id\":4,\"label\":\"\"},{\"color\":\"rgba(204.0,204.0,255.0,1.0)\",\"size\":23.125,\"name\":\"28\",\"id\":5,\"label\":\"\"},{\"color\":\"rgba(204.0,204.0,255.0,1.0)\",\"size\":21.5625,\"name\":\"27\",\"id\":6,\"label\":\"\"},{\"color\":\"rgba(204.0,204.0,255.0,1.0)\",\"size\":23.125,\"name\":\"26\",\"id\":7,\"label\":\"\"},{\"color\":\"rgba(204.0,204.0,255.0,1.0)\",\"size\":21.5625,\"name\":\"25\",\"id\":8,\"label\":\"\"},{\"color\":\"rgba(204.0,204.0,255.0,1.0)\",\"size\":24.6875,\"name\":\"24\",\"id\":9,\"label\":\"\"},{\"color\":\"rgba(204.0,204.0,255.0,1.0)\",\"size\":27.8125,\"name\":\"23\",\"id\":10,\"label\":\"\"},{\"color\":\"rgba(204.0,204.0,255.0,1.0)\",\"size\":23.125,\"name\":\"22\",\"id\":11,\"label\":\"\"},{\"color\":\"rgba(204.0,204.0,255.0,1.0)\",\"size\":20.0,\"name\":\"21\",\"id\":12,\"label\":\"\"},{\"color\":\"rgba(204.0,204.0,255.0,1.0)\",\"size\":23.125,\"name\":\"20\",\"id\":13,\"label\":\"\"},{\"color\":\"rgba(204.0,204.0,255.0,1.0)\",\"size\":21.5625,\"name\":\"19\",\"id\":14,\"label\":\"\"},{\"color\":\"rgba(204.0,204.0,255.0,1.0)\",\"size\":23.125,\"name\":\"18\",\"id\":15,\"label\":\"\"},{\"color\":\"rgba(204.0,204.0,255.0,1.0)\",\"size\":20.0,\"name\":\"17\",\"id\":16,\"label\":\"\"},{\"color\":\"rgba(204.0,204.0,255.0,1.0)\",\"size\":20.0,\"name\":\"16\",\"id\":17,\"label\":\"\"},{\"color\":\"rgba(204.0,204.0,255.0,1.0)\",\"size\":23.125,\"name\":\"15\",\"id\":18,\"label\":\"\"},{\"color\":\"rgba(204.0,204.0,255.0,1.0)\",\"size\":23.125,\"name\":\"14\",\"id\":19,\"label\":\"\"},{\"color\":\"rgba(204.0,204.0,255.0,1.0)\",\"size\":21.5625,\"name\":\"13\",\"id\":20,\"label\":\"\"},{\"color\":\"rgba(204.0,204.0,255.0,1.0)\",\"size\":20.0,\"name\":\"12\",\"id\":21,\"label\":\"\"},{\"color\":\"rgba(204.0,204.0,255.0,1.0)\",\"size\":20.0,\"name\":\"11\",\"id\":22,\"label\":\"\"},{\"color\":\"rgba(204.0,204.0,255.0,1.0)\",\"size\":20.0,\"name\":\"10\",\"id\":23,\"label\":\"\"},{\"color\":\"rgba(204.0,204.0,255.0,1.0)\",\"size\":21.5625,\"name\":\"9\",\"id\":24,\"label\":\"\"},{\"color\":\"rgba(204.0,204.0,255.0,1.0)\",\"size\":24.6875,\"name\":\"8\",\"id\":25,\"label\":\"\"},{\"color\":\"rgba(204.0,204.0,255.0,1.0)\",\"size\":20.0,\"name\":\"7\",\"id\":26,\"label\":\"\"},{\"color\":\"rgba(204.0,204.0,255.0,1.0)\",\"size\":21.5625,\"name\":\"6\",\"id\":27,\"label\":\"\"},{\"color\":\"rgba(204.0,204.0,255.0,1.0)\",\"size\":24.6875,\"name\":\"5\",\"id\":28,\"label\":\"\"},{\"color\":\"rgba(204.0,204.0,255.0,1.0)\",\"size\":23.125,\"name\":\"4\",\"id\":29,\"label\":\"\"},{\"color\":\"rgba(204.0,204.0,255.0,1.0)\",\"size\":24.6875,\"name\":\"3\",\"id\":30,\"label\":\"\"},{\"color\":\"rgba(204.0,204.0,255.0,1.0)\",\"size\":32.5,\"name\":\"2\",\"id\":31,\"label\":\"\"},{\"color\":\"rgba(204.0,204.0,255.0,1.0)\",\"size\":32.5,\"name\":\"1\",\"id\":32,\"label\":\"\"},{\"color\":\"rgba(204.0,204.0,255.0,1.0)\",\"size\":45.0,\"name\":\"0\",\"id\":33,\"label\":\"\"}\n",
    "    ],\n",
    "    \"links\":[\n",
    "        {\"style\":0,\"source\":0,\"target\":1},{\"style\":0,\"source\":0,\"target\":2},{\"style\":0,\"source\":0,\"target\":3},{\"style\":0,\"source\":0,\"target\":4},{\"style\":0,\"source\":0,\"target\":5},{\"style\":0,\"source\":0,\"target\":6},{\"style\":0,\"source\":0,\"target\":7},{\"style\":0,\"source\":0,\"target\":10},{\"style\":0,\"source\":0,\"target\":11},{\"style\":0,\"source\":0,\"target\":13},{\"style\":0,\"source\":0,\"target\":14},{\"style\":0,\"source\":0,\"target\":15},{\"style\":0,\"source\":0,\"target\":18},{\"style\":0,\"source\":0,\"target\":19},{\"style\":0,\"source\":0,\"target\":20},{\"style\":0,\"source\":0,\"target\":24},{\"style\":0,\"source\":0,\"target\":25},{\"style\":0,\"source\":1,\"target\":2},{\"style\":0,\"source\":1,\"target\":3},{\"style\":0,\"source\":1,\"target\":4},{\"style\":0,\"source\":1,\"target\":10},{\"style\":0,\"source\":1,\"target\":11},{\"style\":0,\"source\":1,\"target\":13},{\"style\":0,\"source\":1,\"target\":15},{\"style\":0,\"source\":1,\"target\":18},{\"style\":0,\"source\":1,\"target\":19},{\"style\":0,\"source\":1,\"target\":25},{\"style\":0,\"source\":1,\"target\":31},{\"style\":0,\"source\":2,\"target\":5},{\"style\":0,\"source\":2,\"target\":8},{\"style\":0,\"source\":2,\"target\":9},{\"style\":0,\"source\":2,\"target\":33},{\"style\":0,\"source\":3,\"target\":25},{\"style\":0,\"source\":3,\"target\":32},{\"style\":0,\"source\":4,\"target\":7},{\"style\":0,\"source\":4,\"target\":10},{\"style\":0,\"source\":5,\"target\":31},{\"style\":0,\"source\":6,\"target\":9},{\"style\":0,\"source\":6,\"target\":10},{\"style\":0,\"source\":6,\"target\":31},{\"style\":0,\"source\":8,\"target\":9},{\"style\":0,\"source\":8,\"target\":10},{\"style\":0,\"source\":12,\"target\":32},{\"style\":0,\"source\":12,\"target\":33},{\"style\":0,\"source\":14,\"target\":32},{\"style\":0,\"source\":14,\"target\":33},{\"style\":0,\"source\":16,\"target\":32},{\"style\":0,\"source\":16,\"target\":33},{\"style\":0,\"source\":17,\"target\":27},{\"style\":0,\"source\":17,\"target\":28},{\"style\":0,\"source\":20,\"target\":30},{\"style\":0,\"source\":20,\"target\":31},{\"style\":0,\"source\":20,\"target\":32},{\"style\":0,\"source\":20,\"target\":33},{\"style\":0,\"source\":21,\"target\":30},{\"style\":0,\"source\":21,\"target\":33},{\"style\":0,\"source\":22,\"target\":33},{\"style\":0,\"source\":23,\"target\":28},{\"style\":0,\"source\":23,\"target\":29},{\"style\":0,\"source\":23,\"target\":33},{\"style\":0,\"source\":24,\"target\":31},{\"style\":0,\"source\":25,\"target\":31},{\"style\":0,\"source\":25,\"target\":33},{\"style\":0,\"source\":26,\"target\":30},{\"style\":0,\"source\":26,\"target\":31},{\"style\":0,\"source\":26,\"target\":32},{\"style\":0,\"source\":26,\"target\":33},{\"style\":0,\"source\":27,\"target\":28},{\"style\":0,\"source\":27,\"target\":29},{\"style\":0,\"source\":27,\"target\":33},{\"style\":0,\"source\":28,\"target\":33},{\"style\":0,\"source\":29,\"target\":33},{\"style\":0,\"source\":30,\"target\":31},{\"style\":0,\"source\":30,\"target\":32},{\"style\":0,\"source\":30,\"target\":33},{\"style\":0,\"source\":31,\"target\":32},{\"style\":0,\"source\":31,\"target\":33},{\"style\":0,\"source\":32,\"target\":33}\n",
    "    ]\n",
    "}\n",
    "```\n",
    "\n",
    "\n",
    "Follow the steps below to download a graph cover of the dataset.\n",
    "\n",
    "1. Run an arbitrary OCD algorithm or import a cover\n",
    "2. Click on the Community Detection tab\n",
    "3. Click the .xml download button for the created cover\n",
    "\n",
    "The downloaded xml file is too large to be shown here. Nevertheless, it should contain some general information about the cover like the name, original graph, and cover creation type. After that, the different detected communities are mentioned together with their colors for the 2D and 3D interactive visualizations. A community consists of a number of nodes that are mentioned with their name and a belonging factor."
   ]
  },
  {
   "cell_type": "markdown",
   "metadata": {},
   "source": [
    "You successfully exported different graph data from the WebOCD service! The exported data could be used to implement it in written papers for example. Take a look at the online book of the ACIS i5 chair to get an idea how that could look like."
   ]
  }
 ],
 "metadata": {
  "language_info": {
   "name": "python"
  },
  "orig_nbformat": 4
 },
 "nbformat": 4,
 "nbformat_minor": 2
}
