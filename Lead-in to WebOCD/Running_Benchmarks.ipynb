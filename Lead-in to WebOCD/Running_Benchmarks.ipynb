{
 "cells": [
  {
   "cell_type": "markdown",
   "metadata": {},
   "source": [
    "# Running Benchmarks\n",
    "\n",
    "In this notebook, the different possibilities of synthetic data generation using WebOCD and the corresponding web service are explained. For the generation, the benchmarks LFR, Signed LFR, and Newman are used, that are already implemented in the WebOCD framework.\n",
    "\n",
    "To use the Benchmarks, the user needs to click the Benchmarks tab in the header of the WebOCD web service.\n",
    "\n",
    "<img src=\"figures/headerBenchmarks.jpg\" alt=\"image\" width=\"1000\"/>\n",
    "\n",
    "After that, one can choose between the three different types of benchmark graph generation algorithms. Afterwards, a lot of parameters can be modified according to the selected algorithm. Some of these parameters will be explained in the following sections of the respective algorithm."
   ]
  },
  {
   "cell_type": "markdown",
   "metadata": {},
   "source": [
    "## Table of Contents\n",
    "\n",
    "- [The LFR Benchmark](#the-lfr-benchmark)\n",
    "- [Signed LFR Benchmark](#signed-lfr-benchmark)\n",
    "- [Newman Benchmark](#newman-benchmark)\n",
    "- [Generate a synthetic Graph + Cover](#generate-a-synthetic-graph--cover)"
   ]
  },
  {
   "cell_type": "markdown",
   "metadata": {},
   "source": [
    "### The LFR Benchmark\n",
    "\n",
    "The Lancichinetti–Fortunato–Radicchi (LFR) Benchmark is an algorithm for benchmark network generation. Benchmark networks are artificial networks that resemble real-world networks. Benchmark algorithms are meant for comparing and testing different community detection algorithms because the created synthethic data already has a priori communities.\n",
    "\n",
    "For more information about the algorithms and a detailed description, check the corresponding [paper](https://arxiv.org/abs/0805.4770).\n",
    "\n",
    "The following list explains the parameters of the LFR Benchmark algorithm in WebOCD that are modifiable by the users. The parameter descriptions are taken from the implementation in WebOCD.\n",
    "\n",
    "- n - The nodecount of the benchmark graphs\n",
    "- k - The average node degree of the benchmark graphs\n",
    "- maxk - The maximum node degree of the benchmark graphs\n",
    "- mut - The topological mixing parameter which determines how many edges a node shares with nodes of other communities\n",
    "- muw - The weight mixing parameter for the community-internal strengths of nodes\n",
    "- beta - The exponent for the probability distribution of the total strengths of nodes\n",
    "- t1 - The exponent for the probability distribution of the node degrees\n",
    "- t2 - The exponent for the probability distribution of community sizes\n",
    "- minc - The minimum community size of the benchmark graphs\n",
    "- maxc - The maximum community size of the benchmark graphs\n",
    "- on - The number of overlapping nodes in the benchmark graphs\n",
    "- om - The number of communities an overlapping node belongs to\n",
    "\n",
    "All presented parameters have default values in WebOCD. Anyways, in most cases the modification of the parameters is highly recommended to fit  ones specific needs.\n",
    "\n",
    "After setting the parameters, the user needs to specify a name for the graph that is created as well as the corresponding cover. Clicking on Run Benchmark executes the algorithm with the specified parameters. The user is redirected to a table that contains the created cover and graph. These can also be reached through the corresponding tables."
   ]
  },
  {
   "cell_type": "markdown",
   "metadata": {},
   "source": [
    "### Signed LFR Benchmark\n",
    "\n",
    "The signed LFR Benchmark algorithm is based on the LFR Benchmark algorithm above. Instead of working on directed and undirected graphs, this algorithm works on signed and directed graphs.\n",
    "\n",
    "The algorithm uses the same parameters as above and adds the following:\n",
    "\n",
    "- neg - The fraction of intra-edges which are negative\n",
    "- pos - The fraction of inter-edges which are positive\n",
    "\n",
    "Except the additional parameters, using the Signed LFR Benchmark algorithm is similar to using the normal LFR Benchmark algorithm."
   ]
  },
  {
   "cell_type": "markdown",
   "metadata": {},
   "source": [
    "### Newman Benchmark\n",
    "\n",
    "The implementation of the Newman Benchmark is pased on this [paper](https://www.pnas.org/doi/epdf/10.1073/pnas.122653799).\n",
    "\n",
    "As well as the LFR Benchmark algorithm, the algorithms produces a graph and a corresponding cover. The generated graph contains 128 vertices and 2048 edges. For the cover, these are divided into 4 communities of 32 vertices each.\n",
    "\n",
    "The algorithm has one user specified parameter:\n",
    "\n",
    "- externalEdges - Defines the number of external edges of each ground truth community\n",
    "\n",
    "The remaining part of the benchmark form can be used similar to the other benchmarking algorithms."
   ]
  },
  {
   "cell_type": "markdown",
   "metadata": {},
   "source": [
    "### Generate a synthetic Graph + Cover\n",
    "\n",
    "Follow the steps below to generate a synthetic graph using the LFR Benchmark algorithm:\n",
    "\n",
    "1. Click the Benchmarks tab in the header of the WebOCD web service\n",
    "2. Choose one of the three algorithms\n",
    "3. Adjust the available parameters according to your needs\n",
    "4. Choose a name for the graph and the cover\n",
    "5. Press Run Algorithm\n",
    "\n",
    "After following these steps, you can see a new graph in the Networks tab and a new cover in the Community Detection tab."
   ]
  }
 ],
 "metadata": {
  "language_info": {
   "name": "python"
  },
  "orig_nbformat": 4
 },
 "nbformat": 4,
 "nbformat_minor": 2
}
